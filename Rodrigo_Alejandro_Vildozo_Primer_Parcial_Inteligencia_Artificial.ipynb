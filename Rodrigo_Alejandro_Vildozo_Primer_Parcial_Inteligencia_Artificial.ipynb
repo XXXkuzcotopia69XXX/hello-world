{
  "nbformat": 4,
  "nbformat_minor": 0,
  "metadata": {
    "colab": {
      "provenance": [],
      "authorship_tag": "ABX9TyOYJhSg9SiRRfeMrji1p3mi",
      "include_colab_link": true
    },
    "kernelspec": {
      "name": "python3",
      "display_name": "Python 3"
    },
    "language_info": {
      "name": "python"
    }
  },
  "cells": [
    {
      "cell_type": "markdown",
      "metadata": {
        "id": "view-in-github",
        "colab_type": "text"
      },
      "source": [
        "<a href=\"https://colab.research.google.com/github/XXXkuzcotopia69XXX/hello-world/blob/master/Rodrigo_Alejandro_Vildozo_Primer_Parcial_Inteligencia_Artificial.ipynb\" target=\"_parent\"><img src=\"https://colab.research.google.com/assets/colab-badge.svg\" alt=\"Open In Colab\"/></a>"
      ]
    },
    {
      "cell_type": "code",
      "execution_count": 17,
      "metadata": {
        "colab": {
          "base_uri": "https://localhost:8080/",
          "height": 282
        },
        "id": "sMe5cxmTzGeC",
        "outputId": "5480eabb-9f55-4b1a-d5de-6dd8fcc3b6af"
      },
      "outputs": [
        {
          "output_type": "execute_result",
          "data": {
            "text/plain": [
              "[<matplotlib.lines.Line2D at 0x7f27f9802350>]"
            ]
          },
          "metadata": {},
          "execution_count": 17
        },
        {
          "output_type": "display_data",
          "data": {
            "text/plain": [
              "<Figure size 432x288 with 1 Axes>"
            ],
            "image/png": "[encoded data removed]"
          },
          "metadata": {
            "needs_background": "light"
          }
        }
      ],
      "source": [
        "import numpy as np\n",
        "import matplotlib.pyplot as plt\n",
        "from numpy.random import random as rng\n",
        "\n",
        "n=10000 #numero de iteraciones\n",
        "\n",
        "#arreglos donde guardamos las coordenadas de los puntos medios\n",
        "puntosx=[]\n",
        "puntosy=[]\n",
        "\n",
        "seedx=0.5 #punto con el que comenzamos\n",
        "seedy=0.65\n",
        "\n",
        "#guardamos el primer punto en el arreglo\n",
        "puntosx.append(seedx)\n",
        "puntosy.append(seedy)\n",
        "\n",
        "mediox=0 \n",
        "medioy=0\n",
        "\n",
        "#coordenadas de los vertices\n",
        "v1x=0\n",
        "v1y=0\n",
        "v2x=0.5\n",
        "v2y=np.sqrt(3)/2\n",
        "v3x=1\n",
        "v3y=0\n",
        "\n",
        "r=[]\n",
        "r=rng(n)\n",
        "\n",
        "for i in range(n):\n",
        "\n",
        "  #ahora elegimos un vertice al azar\n",
        "  if (r[i]<1/3) :\n",
        "      verticex=v1x\n",
        "      verticey=v1y\n",
        "  elif (1/3<r[i]<2/3):\n",
        "      verticex=v2x\n",
        "      verticey=v2y\n",
        "  elif (r[i]>2/3):\n",
        "      verticex=v3x\n",
        "      verticey=v3y\n",
        "    #solo para la primera iteración usamos el punto inicial (seed)\n",
        "  if (i==0):\n",
        "      mediox=(verticex+seedx)/2\n",
        "      medioy=(verticey+seedy)/2\n",
        "    #despues ya utilizamos los puntos medios generados en el ciclo\n",
        "  else:\n",
        "    mediox=(verticex+mediox)/2\n",
        "    medioy=(verticey+medioy)/2\n",
        "\n",
        "    #vamos guardando las coordenadas de todos los puntos medios\n",
        "    puntosx.append(mediox)\n",
        "    puntosy.append(medioy)\n",
        "\n",
        "plt.plot(puntosx,puntosy,'g,')"
      ]
    }
  ]
}